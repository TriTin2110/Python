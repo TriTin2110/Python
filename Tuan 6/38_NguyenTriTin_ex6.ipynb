{
 "cells": [
  {
   "cell_type": "markdown",
   "metadata": {},
   "source": [
    "# Lab 06 - Bài tập"
   ]
  },
  {
   "cell_type": "code",
   "execution_count": 15,
   "metadata": {},
   "outputs": [],
   "source": [
    "# import library\n",
    "import pandas as pd\n",
    "import math\n",
    "from statsmodels.stats.proportion import proportion_confint"
   ]
  },
  {
   "cell_type": "markdown",
   "metadata": {},
   "source": [
    "## <u>Bài 1</u>"
   ]
  },
  {
   "cell_type": "markdown",
   "metadata": {},
   "source": [
    "Green M&M Candies liên quan đến Dataset 18 trong file excel. Tìm tỉ lệ mẫu của M&M có màu xanh lá cây (green). Sử dụng kết quả để xây dựng 1 ước lượng khoảng tin cậy 95% của tổng thể M&M có màu xanh."
   ]
  },
  {
   "cell_type": "code",
   "execution_count": 24,
   "metadata": {},
   "outputs": [
    {
     "name": "stdout",
     "output_type": "stream",
     "text": [
      "Tỉ lệ mẫu của M&M có màu xanh:  0.6077\n",
      "Ước lượng khoảng tin cậy 95% của tổng thể M&M có màu xanh:  (0.421, 0.767)\n"
     ]
    }
   ],
   "source": [
    "# Đọc dữ liệu từ file Excel\n",
    "df = pd.read_excel('data2/18_M_M.xls')\n",
    "\n",
    "# Trích xuất dữ liệu liên quan đến M&M có màu xanh từ Dataset 18\n",
    "green_mms = df['Green']  \n",
    "\n",
    "# Tính tỉ lệ mẫu của M&M có màu xanh\n",
    "sample_proportion = green_mms.sum() / len(green_mms)\n",
    "\n",
    "# Sử dụng ước lượng khoảng tin cậy Wilson để tính toán khoảng tin cậy 95%\n",
    "ci = proportion_confint(count=green_mms.sum(), nobs=len(green_mms), alpha=0.05, method='wilson')\n",
    "# In kết quả\n",
    "print(\"Tỉ lệ mẫu của M&M có màu xanh: \", round(sample_proportion, 4) )\n",
    "print(\"Ước lượng khoảng tin cậy 95% của tổng thể M&M có màu xanh: \", (round(ci[0], 3), round(ci[1], 3)))"
   ]
  },
  {
   "cell_type": "markdown",
   "metadata": {},
   "source": [
    "## <u>Bài 2</u>"
   ]
  },
  {
   "cell_type": "markdown",
   "metadata": {},
   "source": [
    "Freshman Weight Gain liên quan đến Dataset 3 trong file excel\n",
    "\n",
    "a. Dựa vào kết quả của mẫu, tìm ước lượng điểm tốt nhất của tỉ lệ phần trăm các sinh viên cao đẳng tăng cân trong năm thứ 1.\n",
    "\n",
    "b. Xây dựng ước lượng khoảng tin cậy 95% về tỉ lệ phần trăm các sinh viên cao đẳng tăng cân trong năm thứ 1.\n"
   ]
  },
  {
   "cell_type": "code",
   "execution_count": 27,
   "metadata": {},
   "outputs": [
    {
     "name": "stdout",
     "output_type": "stream",
     "text": [
      "Ước lượng điểm tốt nhất của tỉ lệ phần trăm các sinh viên cao đẳng tăng cân trong năm thứ nhất: 22.029999999999998\n",
      "Ước lượng khoảng tin cậy 95% về tỉ lệ phần trăm các sinh viên cao đẳng tăng cân trong năm thứ nhất: (nan, nan)\n"
     ]
    },
    {
     "name": "stderr",
     "output_type": "stream",
     "text": [
      "D:\\Anaconda\\Lib\\site-packages\\statsmodels\\stats\\proportion.py:285: RuntimeWarning: invalid value encountered in sqrt\n",
      "  dist = crit * np.sqrt(\n"
     ]
    }
   ],
   "source": [
    "# Đọc dữ liệu từ file Excel\n",
    "df = pd.read_excel('data2/03_FRESH15.xls')\n",
    "\n",
    "# Trích xuất dữ liệu liên quan đến sinh viên cao đẳng tăng cân trong năm thứ nhất từ Dataset 3\n",
    "weight_gain_data = df['BMISP']  # Thay 'column_name' bằng tên cột chứa dữ liệu về tăng cân\n",
    "\n",
    "# a. Ước lượng điểm tốt nhất của tỉ lệ phần trăm các sinh viên cao đẳng tăng cân trong năm thứ nhất\n",
    "best_estimate = weight_gain_data.mean()\n",
    "\n",
    "# b. Xây dựng ước lượng khoảng tin cậy 95% về tỉ lệ phần trăm các sinh viên cao đẳng tăng cân trong năm thứ nhất\n",
    "ci = proportion_confint(count=weight_gain_data.sum(), nobs=len(weight_gain_data), alpha=0.05, method='wilson')\n",
    "\n",
    "# In kết quả\n",
    "print(\"Ước lượng điểm tốt nhất của tỉ lệ phần trăm các sinh viên cao đẳng tăng cân trong năm thứ nhất:\", best_estimate)\n",
    "print(\"Ước lượng khoảng tin cậy 95% về tỉ lệ phần trăm các sinh viên cao đẳng tăng cân trong năm thứ nhất:\", ci)"
   ]
  },
  {
   "cell_type": "markdown",
   "metadata": {},
   "source": [
    "## <u>Bài 3</u>"
   ]
  },
  {
   "cell_type": "markdown",
   "metadata": {},
   "source": [
    "Lượng mưa ở Boston: liên quan đến Dataset 14 trong file excel, và quan tâm đến các ngày với các giá trị lượng mưa khác nhau từ 0 đến các ngày có mưa có giá trị lượng mưa lớn hơn 0.\n",
    "\n",
    "- Xây dựng ước lượng khoảng tin cậy 95% cho tỉ lệ mưa trong các ngày Thứ Tư và \n",
    "- Xây dựng ước lượng khoảng tin cậy 95% cho tỉ lệ mưa trong các ngày Chủ Nhật."
   ]
  },
  {
   "cell_type": "code",
   "execution_count": 33,
   "metadata": {},
   "outputs": [
    {
     "name": "stdout",
     "output_type": "stream",
     "text": [
      "Tỉ lệ mưa trong các ngày Thứ Tư: 0.3019\n",
      "Ước lượng khoảng tin cậy 95% cho tỉ lệ mưa trong các ngày Thứ Tư: 0.1952 ,  0.4354\n",
      "Tỉ lệ mưa trong các ngày Chủ Nhật: 0.283\n",
      "Ước lượng khoảng tin cậy 95% cho tỉ lệ mưa trong các ngày Chủ Nhật: 0.1797 ,  0.4157\n"
     ]
    }
   ],
   "source": [
    "# Đọc dữ liệu từ file Excel\n",
    "df = pd.read_excel('data2/14_BOSTRAIN.xls')\n",
    "\n",
    "\n",
    "# Phân loại các ngày thành hai nhóm: các ngày Thứ Tư và các ngày Chủ Nhật\n",
    "wednesday_rain = df['WED']\n",
    "sunday_rain = df['SUN']\n",
    "\n",
    "# Tính tỉ lệ các ngày trong mỗi nhóm mà có lượng mưa lớn hơn 0\n",
    "wednesday_proportion = (wednesday_rain > 0).mean()\n",
    "sunday_proportion = (sunday_rain > 0).mean()\n",
    "\n",
    "# Xây dựng ước lượng khoảng tin cậy 95% cho tỉ lệ mưa trong các ngày Thứ Tư\n",
    "ci_wednesday = proportion_confint(count=(wednesday_rain > 0).sum(), nobs=len(wednesday_rain), alpha=0.05, method='wilson')\n",
    "\n",
    "# Xây dựng ước lượng khoảng tin cậy 95% cho tỉ lệ mưa trong các ngày Chủ Nhật\n",
    "ci_sunday = proportion_confint(count=(sunday_rain > 0).sum(), nobs=len(sunday_rain), alpha=0.05, method='wilson')\n",
    "\n",
    "# In kết quả\n",
    "print(\"Tỉ lệ mưa trong các ngày Thứ Tư:\", round(wednesday_proportion , 4))\n",
    "print(\"Ước lượng khoảng tin cậy 95% cho tỉ lệ mưa trong các ngày Thứ Tư:\", round(ci_wednesday[0], 4),\", \", round(ci_wednesday[1], 4) )\n",
    "print(\"Tỉ lệ mưa trong các ngày Chủ Nhật:\", round(sunday_proportion,4) )\n",
    "print(\"Ước lượng khoảng tin cậy 95% cho tỉ lệ mưa trong các ngày Chủ Nhật:\", round(ci_sunday[0],4),\", \", round(ci_sunday[1],4))"
   ]
  },
  {
   "cell_type": "markdown",
   "metadata": {},
   "source": [
    "## <u>Bài 4</u>"
   ]
  },
  {
   "cell_type": "markdown",
   "metadata": {},
   "source": [
    "Tổng số tiền phim: liên quan đến Dataset 9 trong file excel. Xây dựng ước tính khoảng thời gian tin cậy 95% của tổng số tiền trung bình cho quần thể của tất cả các phim. Giả định rằng độ lệch chuẩn của quần thể được biết là 100 triệu đô la. "
   ]
  },
  {
   "cell_type": "code",
   "execution_count": 35,
   "metadata": {},
   "outputs": [
    {
     "name": "stdout",
     "output_type": "stream",
     "text": [
      "Ước tính khoảng thời gian tin cậy 95% của tổng số tiền trung bình cho quần thể của tất cả các phim:\n",
      "Lower Bound: 89.86995321464215\n",
      "Upper Bound: 156.13004678535785\n"
     ]
    }
   ],
   "source": [
    "# Số liệu từ Dataset 9\n",
    "# Ví dụ: giả sử có một danh sách các số liệu là tổng số tiền từ tất cả các phim\n",
    "data = pd.read_excel('data2/09_MOVIES.xls')  \n",
    "movie_revenue = data['Gross'] \n",
    "\n",
    "# Tính trung bình mẫu của tổng số tiền từ Dataset 9\n",
    "mean_revenue = sum(movie_revenue) / len(movie_revenue)\n",
    "\n",
    "# Độ lệch chuẩn của quần thể (đã biết) là 100 triệu đô la\n",
    "population_std_dev = 100\n",
    "\n",
    "# Kích thước mẫu\n",
    "sample_size = len(movie_revenue)\n",
    "\n",
    "# Tính độ lệch chuẩn tiêu chuẩn của trung bình mẫu\n",
    "standard_error = population_std_dev / math.sqrt(sample_size)\n",
    "\n",
    "# Giá trị z-score tương ứng với mức độ tin cậy 95%\n",
    "z = 1.96\n",
    "\n",
    "# Tính khoảng tin cậy 95% cho trung bình mẫu\n",
    "lower_bound = mean_revenue - z * standard_error\n",
    "upper_bound = mean_revenue + z * standard_error\n",
    "\n",
    "# In kết quả\n",
    "print(\"Ước tính khoảng thời gian tin cậy 95% của tổng số tiền trung bình cho quần thể của tất cả các phim:\")\n",
    "print(\"Lower Bound:\", lower_bound)\n",
    "print(\"Upper Bound:\", upper_bound)"
   ]
  },
  {
   "cell_type": "markdown",
   "metadata": {},
   "source": [
    "## <u>Bài 5</u>"
   ]
  },
  {
   "cell_type": "markdown",
   "metadata": {},
   "source": [
    "Điểm đánh giá tín dụng FICO: liên quan đến Dataset 24 trong file excel. Xây dựng ước lượng khoảng tin cậy 99% của điểm FICO trung bình cho quần thể. Giả sử độ lệch chuẩn của quần thể là 92,2."
   ]
  },
  {
   "cell_type": "code",
   "execution_count": 42,
   "metadata": {},
   "outputs": [
    {
     "name": "stdout",
     "output_type": "stream",
     "text": [
      "Ước tính khoảng tin cậy 99% của điểm FICO trung bình cho quần thể:\n",
      "Lower Bound: 708    679.190234\n",
      "dtype: float64\n",
      "Upper Bound: 708    726.930978\n",
      "dtype: float64\n"
     ]
    }
   ],
   "source": [
    "# Trích xuất dữ liệu điểm FICO từ Dataset 24\n",
    "fico_scores = pd.read_excel('data2/24_FICO.xls')  # Thay 'FICO Score' bằng tên cột chứa dữ liệu về điểm FICO\n",
    "\n",
    "# Tính trung bình mẫu của điểm FICO\n",
    "mean_fico = fico_scores.mean()\n",
    "\n",
    "# Độ lệch chuẩn của quần thể (đã biết) là 92.2\n",
    "population_std_dev = 92.2\n",
    "\n",
    "# Kích thước mẫu (tổng số lượng điểm FICO)\n",
    "sample_size = len(fico_scores)\n",
    "\n",
    "# Giá trị z-score tương ứng với mức độ tin cậy 99%\n",
    "z_score = 2.576  # Đối với mức độ tin cậy 99%\n",
    "\n",
    "# Tính độ lệch chuẩn tiêu chuẩn của trung bình mẫu\n",
    "standard_error = population_std_dev / math.sqrt(sample_size)\n",
    "\n",
    "# Tính khoảng tin cậy 99% cho trung bình mẫu\n",
    "lower_bound = mean_fico - z_score * standard_error\n",
    "upper_bound = mean_fico + z_score * standard_error\n",
    "\n",
    "# In kết quả\n",
    "print(\"Ước tính khoảng tin cậy 99% của điểm FICO trung bình cho quần thể:\")\n",
    "print(\"Lower Bound:\", lower_bound)\n",
    "print(\"Upper Bound:\", upper_bound)"
   ]
  },
  {
   "cell_type": "code",
   "execution_count": null,
   "metadata": {},
   "outputs": [],
   "source": []
  }
 ],
 "metadata": {
  "kernelspec": {
   "display_name": "Python 3 (ipykernel)",
   "language": "python",
   "name": "python3"
  },
  "language_info": {
   "codemirror_mode": {
    "name": "ipython",
    "version": 3
   },
   "file_extension": ".py",
   "mimetype": "text/x-python",
   "name": "python",
   "nbconvert_exporter": "python",
   "pygments_lexer": "ipython3",
   "version": "3.11.4"
  }
 },
 "nbformat": 4,
 "nbformat_minor": 2
}
